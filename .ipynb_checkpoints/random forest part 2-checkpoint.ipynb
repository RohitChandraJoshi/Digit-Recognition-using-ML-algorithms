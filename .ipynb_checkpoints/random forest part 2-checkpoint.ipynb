{
 "cells": [
  {
   "cell_type": "code",
   "execution_count": 1,
   "id": "3a131ab9",
   "metadata": {},
   "outputs": [],
   "source": [
    "import numpy as np "
   ]
  },
  {
   "cell_type": "code",
   "execution_count": 2,
   "id": "797ab633",
   "metadata": {},
   "outputs": [],
   "source": [
    "import pandas as pd"
   ]
  },
  {
   "cell_type": "code",
   "execution_count": 3,
   "id": "fcb0c17c",
   "metadata": {},
   "outputs": [],
   "source": [
    "import matplotlib.pyplot as plt"
   ]
  },
  {
   "cell_type": "code",
   "execution_count": 4,
   "id": "bc24d912",
   "metadata": {},
   "outputs": [],
   "source": [
    "from sklearn.ensemble import RandomForestClassifier"
   ]
  },
  {
   "cell_type": "code",
   "execution_count": 5,
   "id": "da7d458f",
   "metadata": {},
   "outputs": [],
   "source": [
    "from sklearn.model_selection import train_test_split"
   ]
  },
  {
   "cell_type": "code",
   "execution_count": 6,
   "id": "9a9f8d40",
   "metadata": {},
   "outputs": [],
   "source": [
    "train_data = pd.read_csv(\"mnist_train.csv\")"
   ]
  },
  {
   "cell_type": "code",
   "execution_count": 7,
   "id": "67026790",
   "metadata": {},
   "outputs": [],
   "source": [
    "test_data = pd.read_csv(\"mnist_test.csv\")"
   ]
  },
  {
   "cell_type": "code",
   "execution_count": 8,
   "id": "852fb38d",
   "metadata": {},
   "outputs": [],
   "source": [
    "subset_train_data = train_data.sample(n=500)"
   ]
  },
  {
   "cell_type": "code",
   "execution_count": 9,
   "id": "c2e836ad",
   "metadata": {},
   "outputs": [],
   "source": [
    "y = subset_train_data['label']"
   ]
  },
  {
   "cell_type": "code",
   "execution_count": 10,
   "id": "173cac7f",
   "metadata": {},
   "outputs": [
    {
     "name": "stdout",
     "output_type": "stream",
     "text": [
      "(500, 785)\n"
     ]
    }
   ],
   "source": [
    "print(subset_train_data.shape)"
   ]
  },
  {
   "cell_type": "code",
   "execution_count": 11,
   "id": "ed8d6a2d",
   "metadata": {},
   "outputs": [],
   "source": [
    "X = subset_train_data.drop(columns = 'label')"
   ]
  },
  {
   "cell_type": "code",
   "execution_count": 12,
   "id": "2c3a20c1",
   "metadata": {},
   "outputs": [],
   "source": [
    "subset_test_data = test_data.sample(n=500)"
   ]
  },
  {
   "cell_type": "code",
   "execution_count": 13,
   "id": "a51f0d83",
   "metadata": {},
   "outputs": [
    {
     "name": "stdout",
     "output_type": "stream",
     "text": [
      "(500, 785)\n"
     ]
    }
   ],
   "source": [
    "print(subset_test_data.shape)"
   ]
  },
  {
   "cell_type": "code",
   "execution_count": 14,
   "id": "de7b0e91",
   "metadata": {},
   "outputs": [
    {
     "name": "stdout",
     "output_type": "stream",
     "text": [
      "X: (500, 784)\n",
      "test_data: (500, 785)\n"
     ]
    }
   ],
   "source": [
    "X = X/255.0\n",
    "subset_test_data = subset_test_data/255.0\n",
    "\n",
    "print(\"X:\", X.shape)\n",
    "print(\"test_data:\", subset_test_data.shape)"
   ]
  },
  {
   "cell_type": "code",
   "execution_count": 15,
   "id": "4bbbe23e",
   "metadata": {},
   "outputs": [],
   "source": [
    "from sklearn.preprocessing import scale\n",
    "X_scaled = scale(X)\n",
    "\n",
    "\n",
    "X_train, X_test, y_train, y_test = train_test_split(X_scaled, y, test_size = 0.3, train_size = 0.2 ,random_state = 10)"
   ]
  },
  {
   "cell_type": "code",
   "execution_count": 16,
   "id": "8dbe9176",
   "metadata": {},
   "outputs": [
    {
     "data": {
      "text/plain": [
       "(100, 784)"
      ]
     },
     "execution_count": 16,
     "metadata": {},
     "output_type": "execute_result"
    }
   ],
   "source": [
    "X_train.shape"
   ]
  },
  {
   "cell_type": "code",
   "execution_count": 17,
   "id": "3fb7f942",
   "metadata": {},
   "outputs": [],
   "source": [
    "n_estimators = [int(x) for x in np.linspace(start = 10 , stop = 80, num = 10)]"
   ]
  },
  {
   "cell_type": "code",
   "execution_count": 18,
   "id": "ded2ea1d",
   "metadata": {},
   "outputs": [],
   "source": [
    "max_features = ['auto','sqrt']\n",
    "max_depth = [2,4]\n",
    "max_sample_split = [2,5]\n",
    "min_sample_leaf = [1,2]\n",
    "bootstrap = [True, False]"
   ]
  },
  {
   "cell_type": "code",
   "execution_count": 19,
   "id": "2720bde6",
   "metadata": {},
   "outputs": [
    {
     "name": "stdout",
     "output_type": "stream",
     "text": [
      "{'n_estimators': [10, 17, 25, 33, 41, 48, 56, 64, 72, 80], 'max_features': ['auto', 'sqrt'], 'max_depth': [2, 4], 'max_sample_split': [2, 5], 'min_sample_leaf': [1, 2], 'bootstrap': [True, False]}\n"
     ]
    }
   ],
   "source": [
    "param_grid = {'n_estimators': n_estimators,\n",
    "             'max_features':max_features,\n",
    "             'max_depth':max_depth,\n",
    "             'max_sample_split':max_sample_split,\n",
    "             'min_sample_leaf':min_sample_leaf,\n",
    "             'bootstrap':bootstrap}\n",
    "print(param_grid)"
   ]
  },
  {
   "cell_type": "code",
   "execution_count": 20,
   "id": "90f011f0",
   "metadata": {},
   "outputs": [],
   "source": [
    "RF_model = RandomForestClassifier()"
   ]
  },
  {
   "cell_type": "code",
   "execution_count": 21,
   "id": "931cd50b",
   "metadata": {},
   "outputs": [],
   "source": [
    "from  sklearn.model_selection import RandomizedSearchCV\n",
    "RF_RandomGrid = RandomizedSearchCV(estimator = RF_model , param_distributions = param_grid, cv =2 , verbose = 2, n_jobs = 2)"
   ]
  },
  {
   "cell_type": "code",
   "execution_count": 22,
   "id": "221bd517",
   "metadata": {},
   "outputs": [],
   "source": [
    "#RF_RandomGrid.fit(X_train , y_train)"
   ]
  },
  {
   "cell_type": "code",
   "execution_count": null,
   "id": "526315a3",
   "metadata": {},
   "outputs": [],
   "source": []
  }
 ],
 "metadata": {
  "kernelspec": {
   "display_name": "Python 3 (ipykernel)",
   "language": "python",
   "name": "python3"
  },
  "language_info": {
   "codemirror_mode": {
    "name": "ipython",
    "version": 3
   },
   "file_extension": ".py",
   "mimetype": "text/x-python",
   "name": "python",
   "nbconvert_exporter": "python",
   "pygments_lexer": "ipython3",
   "version": "3.9.7"
  }
 },
 "nbformat": 4,
 "nbformat_minor": 5
}
